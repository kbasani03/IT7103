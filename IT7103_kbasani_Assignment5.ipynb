{
 "cells": [
  {
   "cell_type": "markdown",
   "metadata": {},
   "source": [
    "# Improved Real Estate Regression Analysis"
   ]
  },
  {
   "cell_type": "code",
   "execution_count": 1,
   "metadata": {},
   "outputs": [
    {
     "name": "stdout",
     "output_type": "stream",
     "text": [
      "   HouseAge  DistanceToMRT  NoOfStores  Latitude  Longitude  UnitPrice\n",
      "0      32.0       84.87882          10  24.98298  121.54024       37.9\n",
      "1      19.5      306.59470           9  24.98034  121.53951       42.2\n",
      "2      13.3      561.98450           5  24.98746  121.54391       47.3\n",
      "3      13.3      561.98450           5  24.98746  121.54391       54.8\n",
      "4       5.0      390.56840           5  24.97937  121.54245       43.1\n",
      "<class 'pandas.core.frame.DataFrame'>\n",
      "RangeIndex: 414 entries, 0 to 413\n",
      "Data columns (total 6 columns):\n",
      " #   Column         Non-Null Count  Dtype  \n",
      "---  ------         --------------  -----  \n",
      " 0   HouseAge       414 non-null    float64\n",
      " 1   DistanceToMRT  414 non-null    float64\n",
      " 2   NoOfStores     414 non-null    int64  \n",
      " 3   Latitude       414 non-null    float64\n",
      " 4   Longitude      414 non-null    float64\n",
      " 5   UnitPrice      414 non-null    float64\n",
      "dtypes: float64(5), int64(1)\n",
      "memory usage: 19.5 KB\n",
      "None\n"
     ]
    }
   ],
   "source": [
    "import pandas as pd\n",
    "import numpy as np\n",
    "import matplotlib.pyplot as plt\n",
    "import seaborn as sns\n",
    "from sklearn.model_selection import train_test_split, GridSearchCV\n",
    "from sklearn.preprocessing import StandardScaler\n",
    "from sklearn.tree import DecisionTreeRegressor\n",
    "from sklearn.ensemble import RandomForestRegressor\n",
    "from sklearn.metrics import mean_squared_error, r2_score, mean_absolute_error\n",
    "from sklearn.feature_selection import SelectFromModel\n",
    "\n",
    "# Load the data\n",
    "data = pd.read_csv('real_estate_value.csv')\n",
    "print(data.head())\n",
    "print(data.info())"
   ]
  },
  {
   "cell_type": "markdown",
   "metadata": {},
   "source": [
    "## Data Preprocessing and Feature Engineering"
   ]
  },
  {
   "cell_type": "code",
   "execution_count": 2,
   "metadata": {},
   "outputs": [
    {
     "name": "stdout",
     "output_type": "stream",
     "text": [
      "Missing values: 0\n",
      "Duplicate rows: 0\n"
     ]
    }
   ],
   "source": [
    "# Check for missing values and duplicates\n",
    "print(\"Missing values:\", data.isnull().sum().sum())\n",
    "print(f\"Duplicate rows: {data.duplicated().sum()}\")\n",
    "\n",
    "# Remove duplicates\n",
    "data.drop_duplicates(inplace=True)\n",
    "\n",
    "# Feature engineering\n",
    "data['DistanceToMRT_log'] = np.log1p(data['DistanceToMRT'])\n",
    "data['HouseAge_squared'] = data['HouseAge'] ** 2\n",
    "\n",
    "# Separate features and target\n",
    "X = data.drop('UnitPrice', axis=1)\n",
    "y = data['UnitPrice']\n",
    "\n",
    "# Split the data\n",
    "X_train, X_test, y_train, y_test = train_test_split(X, y, test_size=0.2, random_state=42)\n",
    "\n",
    "# Scale the features\n",
    "scaler = StandardScaler()\n",
    "X_train_scaled = scaler.fit_transform(X_train)\n",
    "X_test_scaled = scaler.transform(X_test)\n",
    "\n",
    "# Convert to dataframe for better feature handling\n",
    "X_train_scaled = pd.DataFrame(X_train_scaled, columns=X_train.columns)\n",
    "X_test_scaled = pd.DataFrame(X_test_scaled, columns=X_test.columns)"
   ]
  },
  {
   "cell_type": "markdown",
   "metadata": {},
   "source": [
    "## Model Fine-tuning"
   ]
  },
  {
   "cell_type": "code",
   "execution_count": 3,
   "metadata": {},
   "outputs": [
    {
     "name": "stdout",
     "output_type": "stream",
     "text": [
      "Best Decision Tree parameters: {'max_depth': 15, 'min_samples_leaf': 2, 'min_samples_split': 10}\n",
      "Best Random Forest parameters: {'max_depth': 20, 'min_samples_leaf': 4, 'min_samples_split': 10, 'n_estimators': 300}\n"
     ]
    }
   ],
   "source": [
    "# Decision Tree fine-tuning\n",
    "dt_params = {\n",
    "    'max_depth': [5, 10, 15, 20, None],\n",
    "    'min_samples_split': [2, 5, 10],\n",
    "    'min_samples_leaf': [1, 2, 4]\n",
    "}\n",
    "\n",
    "dt_grid = GridSearchCV(DecisionTreeRegressor(random_state=42), dt_params, cv=5, scoring='neg_mean_squared_error')\n",
    "dt_grid.fit(X_train_scaled, y_train)\n",
    "\n",
    "print(\"Best Decision Tree parameters:\", dt_grid.best_params_)\n",
    "dt_best = dt_grid.best_estimator_\n",
    "\n",
    "# Random Forest fine-tuning\n",
    "rf_params = {\n",
    "    'n_estimators': [100, 200, 300],\n",
    "    'max_depth': [10, 20, 30, None],\n",
    "    'min_samples_split': [2, 5, 10],\n",
    "    'min_samples_leaf': [1, 2, 4]\n",
    "}\n",
    "\n",
    "rf_grid = GridSearchCV(RandomForestRegressor(random_state=42), rf_params, cv=5, scoring='neg_mean_squared_error')\n",
    "rf_grid.fit(X_train_scaled, y_train)\n",
    "\n",
    "print(\"Best Random Forest parameters:\", rf_grid.best_params_)\n",
    "rf_best = rf_grid.best_estimator_"
   ]
  },
  {
   "cell_type": "markdown",
   "metadata": {},
   "source": [
    "## Model Evaluation"
   ]
  },
  {
   "cell_type": "code",
   "execution_count": 4,
   "metadata": {},
   "outputs": [
    {
     "name": "stdout",
     "output_type": "stream",
     "text": [
      "Decision Tree Performance:\n",
      "Train RMSE: 5.33\n",
      "Test RMSE: 6.82\n",
      "Train MAE: 3.28\n",
      "Test MAE: 4.88\n",
      "Train R2: 0.85\n",
      "Test R2: 0.72\n",
      "\n",
      "Random Forest Performance:\n",
      "Train RMSE: 5.87\n",
      "Test RMSE: 5.73\n",
      "Train MAE: 3.70\n",
      "Test MAE: 3.90\n",
      "Train R2: 0.82\n",
      "Test R2: 0.80\n"
     ]
    }
   ],
   "source": [
    "def evaluate_model(model, X_train, X_test, y_train, y_test):\n",
    "    train_pred = model.predict(X_train)\n",
    "    test_pred = model.predict(X_test)\n",
    "    \n",
    "    train_mse = mean_squared_error(y_train, train_pred)\n",
    "    test_mse = mean_squared_error(y_test, test_pred)\n",
    "    train_rmse = np.sqrt(train_mse)\n",
    "    test_rmse = np.sqrt(test_mse)\n",
    "    train_mae = mean_absolute_error(y_train, train_pred)\n",
    "    test_mae = mean_absolute_error(y_test, test_pred)\n",
    "    train_r2 = r2_score(y_train, train_pred)\n",
    "    test_r2 = r2_score(y_test, test_pred)\n",
    "    \n",
    "    print(f\"Train RMSE: {train_rmse:.2f}\")\n",
    "    print(f\"Test RMSE: {test_rmse:.2f}\")\n",
    "    print(f\"Train MAE: {train_mae:.2f}\")\n",
    "    print(f\"Test MAE: {test_mae:.2f}\")\n",
    "    print(f\"Train R2: {train_r2:.2f}\")\n",
    "    print(f\"Test R2: {test_r2:.2f}\")\n",
    "\n",
    "print(\"Decision Tree Performance:\")\n",
    "evaluate_model(dt_best, X_train_scaled, X_test_scaled, y_train, y_test)\n",
    "\n",
    "print(\"\\nRandom Forest Performance:\")\n",
    "evaluate_model(rf_best, X_train_scaled, X_test_scaled, y_train, y_test)"
   ]
  },
  {
   "cell_type": "markdown",
   "metadata": {},
   "source": [
    "## Feature Importance and Selection"
   ]
  },
  {
   "cell_type": "code",
   "execution_count": 5,
   "metadata": {},
   "outputs": [
    {
     "name": "stdout",
     "output_type": "stream",
     "text": [
      "Feature Importance:\n",
      "             feature  importance\n",
      "5  DistanceToMRT_log    0.335270\n",
      "1      DistanceToMRT    0.325973\n",
      "3           Latitude    0.124356\n",
      "0           HouseAge    0.080992\n",
      "6   HouseAge_squared    0.077469\n",
      "4          Longitude    0.043194\n",
      "2         NoOfStores    0.012747\n"
     ]
    },
    {
     "data": {
      "image/png": "[encoded data removed]",
      "text/plain": [
       "<Figure size 1000x600 with 1 Axes>"
      ]
     },
     "metadata": {},
     "output_type": "display_data"
    },
    {
     "name": "stderr",
     "output_type": "stream",
     "text": [
      "C:\\Users\\ar356\\AppData\\Roaming\\Python\\Python311\\site-packages\\sklearn\\base.py:432: UserWarning: X has feature names, but SelectFromModel was fitted without feature names\n",
      "  warnings.warn(\n",
      "C:\\Users\\ar356\\AppData\\Roaming\\Python\\Python311\\site-packages\\sklearn\\base.py:432: UserWarning: X has feature names, but SelectFromModel was fitted without feature names\n",
      "  warnings.warn(\n"
     ]
    },
    {
     "name": "stdout",
     "output_type": "stream",
     "text": [
      "\n",
      "Random Forest Performance with Selected Features:\n",
      "Train RMSE: 7.06\n",
      "Test RMSE: 6.95\n",
      "Train MAE: 4.78\n",
      "Test MAE: 4.98\n",
      "Train R2: 0.73\n",
      "Test R2: 0.71\n"
     ]
    }
   ],
   "source": [
    "# Get feature importance from Random Forest\n",
    "feature_importance = pd.DataFrame({\n",
    "    'feature': X_train_scaled.columns,\n",
    "    'importance': rf_best.feature_importances_\n",
    "}).sort_values('importance', ascending=False)\n",
    "\n",
    "print(\"Feature Importance:\")\n",
    "print(feature_importance)\n",
    "\n",
    "# Visualize feature importance\n",
    "plt.figure(figsize=(10, 6))\n",
    "sns.barplot(x='importance', y='feature', data=feature_importance)\n",
    "plt.title('Feature Importance (Random Forest)')\n",
    "plt.show()\n",
    "\n",
    "# Select important features\n",
    "selector = SelectFromModel(rf_best, prefit=True)\n",
    "X_train_selected = selector.transform(X_train_scaled)\n",
    "X_test_selected = selector.transform(X_test_scaled)\n",
    "\n",
    "# Train a new Random Forest model with selected features\n",
    "rf_selected = RandomForestRegressor(**rf_grid.best_params_, random_state=42)\n",
    "rf_selected.fit(X_train_selected, y_train)\n",
    "\n",
    "print(\"\\nRandom Forest Performance with Selected Features:\")\n",
    "evaluate_model(rf_selected, X_train_selected, X_test_selected, y_train, y_test)"
   ]
  }
 ],
 "metadata": {
  "kernelspec": {
   "display_name": "Python 3",
   "language": "python",
   "name": "python3"
  },
  "language_info": {
   "codemirror_mode": {
    "name": "ipython",
    "version": 3
   },
   "file_extension": ".py",
   "mimetype": "text/x-python",
   "name": "python",
   "nbconvert_exporter": "python",
   "pygments_lexer": "ipython3",
   "version": "3.11.2"
  }
 },
 "nbformat": 4,
 "nbformat_minor": 4
}

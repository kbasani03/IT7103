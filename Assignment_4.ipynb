{
 "cells": [
  {
   "cell_type": "code",
   "execution_count": 1,
   "metadata": {},
   "outputs": [],
   "source": [
    "import pandas as pd\n",
    "import numpy as np\n",
    "from sklearn.model_selection import train_test_split, GridSearchCV\n",
    "from sklearn.svm import SVC\n",
    "from sklearn.preprocessing import StandardScaler\n",
    "from sklearn.metrics import accuracy_score"
   ]
  },
  {
   "cell_type": "code",
   "execution_count": 2,
   "metadata": {},
   "outputs": [],
   "source": [
    "# Load the data\n",
    "data = pd.read_csv('breast-cancer.csv')\n",
    "\n",
    "# Separate features and target\n",
    "X = data.drop(['ID', 'Class'], axis=1)\n",
    "y = data['Class']\n",
    "\n",
    "# Split the data\n",
    "X_train, X_test, y_train, y_test = train_test_split(X, y, test_size=0.2, random_state=42)\n",
    "\n",
    "# Scale the features\n",
    "scaler = StandardScaler()\n",
    "X_train_scaled = scaler.fit_transform(X_train)\n",
    "X_test_scaled = scaler.transform(X_test)"
   ]
  },
  {
   "cell_type": "code",
   "execution_count": 7,
   "metadata": {},
   "outputs": [],
   "source": [
    "# Function to train and evaluate SVM models\n",
    "def train_and_evaluate_svm(kernel, param_grid):\n",
    "    svm = SVC(kernel=kernel)\n",
    "    grid_search = GridSearchCV(svm, param_grid, cv=5, scoring='accuracy')\n",
    "    grid_search.fit(X_train_scaled, y_train)\n",
    "    \n",
    "    best_model = grid_search.best_estimator_\n",
    "    train_accuracy = best_model.score(X_train_scaled, y_train)\n",
    "    test_accuracy = best_model.score(X_test_scaled, y_test)\n",
    "    \n",
    "    print(f\"{kernel.capitalize()} SVM Results:\")\n",
    "    print(f\"Best parameters: {grid_search.best_params_}\")\n",
    "    print(f\"Cross-validation accuracy: {grid_search.best_score_:.4f}\")\n",
    "    print(f\"Training accuracy: {train_accuracy:.4f}\")\n",
    "    print(f\"Testing accuracy: {test_accuracy:.4f}\")\n",
    "    print()"
   ]
  },
  {
   "cell_type": "code",
   "execution_count": 8,
   "metadata": {},
   "outputs": [
    {
     "name": "stdout",
     "output_type": "stream",
     "text": [
      "Linear SVM Results:\n",
      "Best parameters: {'C': 0.1}\n",
      "Cross-validation accuracy: 0.9624\n",
      "Training accuracy: 0.9714\n",
      "Testing accuracy: 0.9643\n",
      "\n",
      "Rbf SVM Results:\n",
      "Best parameters: {'C': 1, 'gamma': 0.01}\n",
      "Cross-validation accuracy: 0.9660\n",
      "Training accuracy: 0.9660\n",
      "Testing accuracy: 0.9714\n",
      "\n",
      "Linear SVM Results:\n",
      "Best parameters: {'C': 0.1}\n",
      "Cross-validation accuracy: 0.9624\n",
      "Training accuracy: 0.9714\n",
      "Testing accuracy: 0.9643\n",
      "\n"
     ]
    }
   ],
   "source": [
    "# Linear SVM\n",
    "linear_param_grid = {'C': [0.1, 1, 10, 100]}\n",
    "train_and_evaluate_svm('linear', linear_param_grid)\n",
    "\n",
    "# RBF Kernel SVM\n",
    "rbf_param_grid = {'C': [0.1, 1, 10, 100], 'gamma': [0.01, 0.1, 1, 10]}\n",
    "train_and_evaluate_svm('rbf', rbf_param_grid)\n",
    "\n",
    "# Linear Kernel SVM\n",
    "linear_kernel_param_grid = {'C': [0.1, 1, 10, 100]}\n",
    "train_and_evaluate_svm('linear', linear_kernel_param_grid)"
   ]
  }
 ],
 "metadata": {
  "kernelspec": {
   "display_name": "Python 3 (ipykernel)",
   "language": "python",
   "name": "python3"
  },
  "language_info": {
   "codemirror_mode": {
    "name": "ipython",
    "version": 3
   },
   "file_extension": ".py",
   "mimetype": "text/x-python",
   "name": "python",
   "nbconvert_exporter": "python",
   "pygments_lexer": "ipython3",
   "version": "3.12.1"
  }
 },
 "nbformat": 4,
 "nbformat_minor": 4
}

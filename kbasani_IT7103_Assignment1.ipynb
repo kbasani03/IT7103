{
  "nbformat": 4,
  "nbformat_minor": 0,
  "metadata": {
    "colab": {
      "provenance": [],
      "authorship_tag": "ABX9TyPEt9lAjLR2BPeA6EE9Pfh4",
      "include_colab_link": true
    },
    "kernelspec": {
      "name": "python3",
      "display_name": "Python 3"
    },
    "language_info": {
      "name": "python"
    }
  },
  "cells": [
    {
      "cell_type": "markdown",
      "metadata": {
        "id": "view-in-github",
        "colab_type": "text"
      },
      "source": [
        "<a href=\"https://colab.research.google.com/github/kbasani03/IT7103/blob/main/kbasani_IT7103_Assignment1.ipynb\" target=\"_parent\"><img src=\"https://colab.research.google.com/assets/colab-badge.svg\" alt=\"Open In Colab\"/></a>"
      ]
    },
    {
      "cell_type": "code",
      "execution_count": null,
      "metadata": {
        "id": "zg-Rjr9irBug"
      },
      "outputs": [],
      "source": []
    },
    {
      "cell_type": "markdown",
      "source": [],
      "metadata": {
        "id": "w9lCv8BXrQns"
      }
    },
    {
      "cell_type": "code",
      "source": [
        "# Chloe Xie\n",
        "# IT7103 Summer 2024"
      ],
      "metadata": {
        "id": "QQS533-wrVMJ"
      },
      "execution_count": null,
      "outputs": []
    },
    {
      "cell_type": "code",
      "source": [],
      "metadata": {
        "id": "PPd8wvu0rPt5"
      },
      "execution_count": null,
      "outputs": []
    }
  ]
}
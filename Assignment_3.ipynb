{
 "cells": [
  {
   "cell_type": "markdown",
   "metadata": {
    "colab_type": "text",
    "id": "view-in-github"
   },
   "source": [
    "<a href=\"https://colab.research.google.com/github/VenkataSivaKrishnaVallepalli/SivaIT7103/blob/main/Untitled3.ipynb\" target=\"_parent\"><img src=\"https://colab.research.google.com/assets/colab-badge.svg\" alt=\"Open In Colab\"/></a>"
   ]
  },
  {
   "cell_type": "code",
   "execution_count": null,
   "metadata": {
    "colab": {
     "base_uri": "https://localhost:8080/"
    },
    "id": "Mke4gTIDLr2E",
    "outputId": "2849b708-7d06-4a57-f2c0-9e4f71ea83ae"
   },
   "outputs": [
    {
     "name": "stdout",
     "output_type": "stream",
     "text": [
      "      id  gender   age  hypertension  heart_disease ever_married  \\\n",
      "0   9046    Male  67.0             0              1          Yes   \n",
      "1  51676  Female  61.0             0              0          Yes   \n",
      "2  31112    Male  80.0             0              1          Yes   \n",
      "3  60182  Female  49.0             0              0          Yes   \n",
      "4   1665  Female  79.0             1              0          Yes   \n",
      "\n",
      "       work_type Residence_type  avg_glucose_level   bmi   smoking_status  \\\n",
      "0        Private          Urban             228.69  36.6  formerly smoked   \n",
      "1  Self-employed          Rural             202.21   NaN     never smoked   \n",
      "2        Private          Rural             105.92  32.5     never smoked   \n",
      "3        Private          Urban             171.23  34.4           smokes   \n",
      "4  Self-employed          Rural             174.12  24.0     never smoked   \n",
      "\n",
      "   stroke  \n",
      "0       1  \n",
      "1       1  \n",
      "2       1  \n",
      "3       1  \n",
      "4       1  \n"
     ]
    }
   ],
   "source": [
    "import pandas as pd\n",
    "\n",
    "# Assuming you have the stroke data in a CSV file named 'stroke_data.csv'\n",
    "file_path = '/content/stroke.csv'\n",
    "stroke_data = pd.read_csv(file_path)\n",
    "\n",
    "# Display the first few rows of the dataset to understand its structure\n",
    "print(stroke_data.head())\n"
   ]
  },
  {
   "cell_type": "code",
   "execution_count": 3,
   "metadata": {
    "colab": {
     "base_uri": "https://localhost:8080/"
    },
    "id": "7mE8opjvL3wv",
    "outputId": "b6f40b8a-9c95-42ee-a361-c0eed3623a79"
   },
   "outputs": [
    {
     "name": "stdout",
     "output_type": "stream",
     "text": [
      "Metrics for Logistic Regression:\n",
      "Accuracy: 0.9430\n",
      "Precision: 0.2000\n",
      "Recall: 0.0189\n",
      "F1 Score: 0.0345\n",
      "ROC AUC Score: 0.5073\n",
      "========================================\n",
      "Metrics for Decision Tree:\n",
      "Accuracy: 0.9124\n",
      "Precision: 0.1163\n",
      "Recall: 0.0943\n",
      "F1 Score: 0.1042\n",
      "ROC AUC Score: 0.5267\n",
      "========================================\n",
      "Metrics for Random Forest:\n",
      "Accuracy: 0.9460\n",
      "Precision: 0.0000\n",
      "Recall: 0.0000\n",
      "F1 Score: 0.0000\n",
      "ROC AUC Score: 0.5000\n",
      "========================================\n"
     ]
    },
    {
     "name": "stderr",
     "output_type": "stream",
     "text": [
      "/usr/local/lib/python3.10/dist-packages/sklearn/metrics/_classification.py:1344: UndefinedMetricWarning: Precision is ill-defined and being set to 0.0 due to no predicted samples. Use `zero_division` parameter to control this behavior.\n",
      "  _warn_prf(average, modifier, msg_start, len(result))\n"
     ]
    }
   ],
   "source": [
    "import pandas as pd\n",
    "from sklearn.model_selection import train_test_split\n",
    "from sklearn.linear_model import LogisticRegression\n",
    "from sklearn.tree import DecisionTreeClassifier\n",
    "from sklearn.ensemble import RandomForestClassifier\n",
    "from sklearn.metrics import accuracy_score, precision_score, recall_score, f1_score, roc_auc_score\n",
    "from sklearn.preprocessing import StandardScaler\n",
    "\n",
    "# Load the stroke data again\n",
    "data = pd.read_csv('/content/stroke.csv')\n",
    "\n",
    "\n",
    "# Define the columns\n",
    "numeric_features = ['age', 'avg_glucose_level', 'bmi']\n",
    "binary_features = ['hypertension', 'heart_disease']\n",
    "categorical_features = ['gender', 'ever_married', 'work_type', 'Residence_type', 'smoking_status']\n",
    "target_column = 'stroke'\n",
    "\n",
    "# Drop any rows with missing values\n",
    "data = data.dropna()\n",
    "\n",
    "# Transform binary features\n",
    "for feature in binary_features:\n",
    "    data[feature] = data[feature].apply(lambda x: 1 if x == 1 else 0)\n",
    "\n",
    "# Perform one-hot encoding on categorical features\n",
    "data = pd.get_dummies(data, columns=categorical_features, drop_first=True)\n",
    "\n",
    "# Scale numeric features\n",
    "scaler = StandardScaler()\n",
    "data[numeric_features] = scaler.fit_transform(data[numeric_features])\n",
    "\n",
    "# Split the data into features (X) and target variable (y)\n",
    "X = data.drop(target_column, axis=1)\n",
    "y = data[target_column]\n",
    "\n",
    "# Split the data into training and testing sets\n",
    "X_train, X_test, y_train, y_test = train_test_split(X, y, test_size=0.2, random_state=42)\n",
    "\n",
    "#  Initialize models\n",
    "logistic_regression = LogisticRegression(random_state=42)\n",
    "decision_tree = DecisionTreeClassifier(random_state=42)\n",
    "random_forest = RandomForestClassifier(random_state=42)\n",
    "\n",
    "# Train the models\n",
    "logistic_regression.fit(X_train, y_train)\n",
    "decision_tree.fit(X_train, y_train)\n",
    "random_forest.fit(X_train, y_train)\n",
    "\n",
    "# Evaluate the models\n",
    "models = [logistic_regression, decision_tree, random_forest]\n",
    "model_names = ['Logistic Regression', 'Decision Tree', 'Random Forest']\n",
    "\n",
    "for model, name in zip(models, model_names):\n",
    "    y_pred = model.predict(X_test)\n",
    "    \n",
    "    accuracy = accuracy_score(y_test, y_pred)\n",
    "    precision = precision_score(y_test, y_pred)\n",
    "    recall = recall_score(y_test, y_pred)\n",
    "    f1 = f1_score(y_test, y_pred)\n",
    "    roc_auc = roc_auc_score(y_test, y_pred)\n",
    "\n",
    "    print(f\"Metrics for {name}:\")\n",
    "    print(f\"Accuracy: {accuracy:.4f}\")\n",
    "    print(f\"Precision: {precision:.4f}\")\n",
    "    print(f\"Recall: {recall:.4f}\")\n",
    "    print(f\"F1 Score: {f1:.4f}\")\n",
    "    print(f\"ROC AUC Score: {roc_auc:.4f}\")\n",
    "    print(\"=\"*40)"
   ]
  },
  {
   "cell_type": "code",
   "execution_count": 4,
   "metadata": {
    "colab": {
     "base_uri": "https://localhost:8080/"
    },
    "id": "a1zhzXAsM_WJ",
    "outputId": "5f014d1f-8d16-46d9-a7d9-6963b958e61b"
   },
   "outputs": [
    {
     "name": "stdout",
     "output_type": "stream",
     "text": [
      "Logistic Regression Accuracy: 0.9429735234215886\n",
      "Classification Report:\n",
      "               precision    recall  f1-score   support\n",
      "\n",
      "           0       0.95      1.00      0.97       929\n",
      "           1       0.20      0.02      0.03        53\n",
      "\n",
      "    accuracy                           0.94       982\n",
      "   macro avg       0.57      0.51      0.50       982\n",
      "weighted avg       0.91      0.94      0.92       982\n",
      "\n",
      "Decision Tree Accuracy: 0.9103869653767821\n",
      "Classification Report:\n",
      "               precision    recall  f1-score   support\n",
      "\n",
      "           0       0.95      0.96      0.95       929\n",
      "           1       0.09      0.08      0.08        53\n",
      "\n",
      "    accuracy                           0.91       982\n",
      "   macro avg       0.52      0.52      0.52       982\n",
      "weighted avg       0.90      0.91      0.91       982\n",
      "\n",
      "Random Forest Accuracy: 0.9460285132382892\n",
      "Classification Report:\n",
      "               precision    recall  f1-score   support\n",
      "\n",
      "           0       0.95      1.00      0.97       929\n",
      "           1       0.00      0.00      0.00        53\n",
      "\n",
      "    accuracy                           0.95       982\n",
      "   macro avg       0.47      0.50      0.49       982\n",
      "weighted avg       0.89      0.95      0.92       982\n",
      "\n"
     ]
    },
    {
     "name": "stderr",
     "output_type": "stream",
     "text": [
      "/usr/local/lib/python3.10/dist-packages/sklearn/metrics/_classification.py:1344: UndefinedMetricWarning: Precision and F-score are ill-defined and being set to 0.0 in labels with no predicted samples. Use `zero_division` parameter to control this behavior.\n",
      "  _warn_prf(average, modifier, msg_start, len(result))\n",
      "/usr/local/lib/python3.10/dist-packages/sklearn/metrics/_classification.py:1344: UndefinedMetricWarning: Precision and F-score are ill-defined and being set to 0.0 in labels with no predicted samples. Use `zero_division` parameter to control this behavior.\n",
      "  _warn_prf(average, modifier, msg_start, len(result))\n",
      "/usr/local/lib/python3.10/dist-packages/sklearn/metrics/_classification.py:1344: UndefinedMetricWarning: Precision and F-score are ill-defined and being set to 0.0 in labels with no predicted samples. Use `zero_division` parameter to control this behavior.\n",
      "  _warn_prf(average, modifier, msg_start, len(result))\n"
     ]
    }
   ],
   "source": [
    "from sklearn.model_selection import train_test_split\n",
    "from sklearn.metrics import accuracy_score, classification_report\n",
    "\n",
    "# Re-evaluating the models\n",
    "X = data.drop(target_column, axis=1)\n",
    "y = data[target_column]\n",
    "\n",
    "# Split data into training and testing sets again\n",
    "X_train, X_test, y_train, y_test = train_test_split(X, y, test_size=0.2, random_state=42)\n",
    "\n",
    "# Logistic Regression Model\n",
    "from sklearn.linear_model import LogisticRegression\n",
    "log_reg_model = LogisticRegression()\n",
    "log_reg_model.fit(X_train, y_train)\n",
    "y_pred_log_reg = log_reg_model.predict(X_test)\n",
    "log_reg_accuracy = accuracy_score(y_test, y_pred_log_reg)\n",
    "print(\"Logistic Regression Accuracy:\", log_reg_accuracy)\n",
    "print(\"Classification Report:\\n\", classification_report(y_test, y_pred_log_reg))\n",
    "\n",
    "\n",
    "# Decision Tree Model\n",
    "from sklearn.tree import DecisionTreeClassifier\n",
    "dec_tree_model = DecisionTreeClassifier()\n",
    "dec_tree_model.fit(X_train, y_train)\n",
    "y_pred_dec_tree = dec_tree_model.predict(X_test)\n",
    "dec_tree_accuracy = accuracy_score(y_test, y_pred_dec_tree)\n",
    "print(\"Decision Tree Accuracy:\", dec_tree_accuracy)\n",
    "print(\"Classification Report:\\n\", classification_report(y_test, y_pred_dec_tree))\n",
    "\n",
    "\n",
    "# Random Forest Model\n",
    "from sklearn.ensemble import RandomForestClassifier\n",
    "rand_forest_model = RandomForestClassifier()\n",
    "rand_forest_model.fit(X_train, y_train)\n",
    "y_pred_rand_forest = rand_forest_model.predict(X_test)\n",
    "rand_forest_accuracy = accuracy_score(y_test, y_pred_rand_forest)\n",
    "print(\"Random Forest Accuracy:\", rand_forest_accuracy)\n",
    "print(\"Classification Report:\\n\", classification_report(y_test, y_pred_rand_forest))"
   ]
  }
 ],
 "metadata": {
  "colab": {
   "authorship_tag": "ABX9TyMuKiKMbV6KZ3GPq8KD3uEv",
   "include_colab_link": true,
   "provenance": []
  },
  "kernelspec": {
   "display_name": "Python 3 (ipykernel)",
   "language": "python",
   "name": "python3"
  },
  "language_info": {
   "codemirror_mode": {
    "name": "ipython",
    "version": 3
   },
   "file_extension": ".py",
   "mimetype": "text/x-python",
   "name": "python",
   "nbconvert_exporter": "python",
   "pygments_lexer": "ipython3",
   "version": "3.11.0"
  }
 },
 "nbformat": 4,
 "nbformat_minor": 4
}
